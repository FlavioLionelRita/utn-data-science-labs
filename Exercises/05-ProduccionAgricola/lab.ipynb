{
 "cells": [
  {
   "cell_type": "markdown",
   "metadata": {},
   "source": [
    "# Producción Agricola\n",
    "\n",
    "## Conocimiento del Negocio\n",
    "\n",
    "### Dataset\n",
    "\n",
    "Repositorio en google drive:\n",
    "\n",
    "- [Producción Agricola](https://drive.google.com/file/d/1uJKy2HI79gER4ThgYHVoHQ3wSTMm81Do/view?usp=drive_link)\n",
    "\n",
    "### Contexto\n",
    "\n",
    "El análisis de los datos puede ayudar a los agricultores a tomar decisiones informadas sobre qué cultivos plantar en base a factores históricos, y también puede ser útil para las empresas que compran cultivos a los agricultores para estimar su valor de mercado. \\\n",
    "Asimismo, este análisis puede ser útil para el gobierno para diseñar políticas que promuevan la producción agrícola y la seguridad alimentaria.\n",
    "\n",
    "## Campos\n",
    "\n",
    "- año\n",
    "- provincia\n",
    "- cultivo\n",
    "- precipitación (mm)\n",
    "- área cosechada (acres)\n",
    "- rendimiento (toneladas/acres)\n",
    "- producción (toneladas)\n",
    "- valor en finca ($)\n",
    "\n",
    "### Objetivo\n",
    "\n",
    "proporcionar una herramienta que permita estimar el valor de venta de diferentes cultivos agrícolas en base a datos históricos de producción\n",
    "\n",
    "### Requirements\n",
    "\n",
    "Ejecute el siguiente comando para instalar los paquetes necesarios:\n",
    "\n",
    "```bash\n",
    "pip install -r requirements.txt\n",
    "```"
   ]
  },
  {
   "cell_type": "markdown",
   "metadata": {},
   "source": [
    "## Extracción de Datos"
   ]
  },
  {
   "cell_type": "code",
   "execution_count": 119,
   "metadata": {},
   "outputs": [],
   "source": [
    "import pandas as pd\n",
    "import matplotlib.pyplot as plt\n",
    "df = pd.read_csv('agriculturalProduction.csv')\n",
    "# Muestra las primeras filas del DataFrame\n",
    "# print(df.head())"
   ]
  },
  {
   "cell_type": "markdown",
   "metadata": {},
   "source": [
    "## Preparación y transformación de datos\n",
    "\n",
    "**Limpieza de los datos:**\n",
    "\n",
    "- Busco valores nulos en las columnas\n",
    "  - Observo que hay valores nulos en las columnas:\n",
    "    - precipitación\n",
    "    - área cosechada\n",
    "    - rendimiento\n",
    "    - producción\n",
    "    - valor en finca\n",
    "\n",
    "A continuación, se resuelven los valores nulos de cada columna"
   ]
  },
  {
   "cell_type": "code",
   "execution_count": 120,
   "metadata": {},
   "outputs": [
    {
     "name": "stdout",
     "output_type": "stream",
     "text": [
      "year                        0\n",
      "province                    0\n",
      "crop                        0\n",
      "precipitation(mm)         140\n",
      "harvested area (acres)    116\n",
      "yield (tonnes/acres)      118\n",
      "production (tonnes)       113\n",
      "farm gate value ($)       139\n",
      "dtype: int64\n"
     ]
    }
   ],
   "source": [
    "# Obtener la cantidad de datos nulos por columna\n",
    "datos_nulos_por_columna = df.isnull().sum()\n",
    "print(datos_nulos_por_columna)"
   ]
  },
  {
   "cell_type": "markdown",
   "metadata": {},
   "source": [
    "### Resolución de valores nulos en la columna precipitación\n",
    "\n",
    "Análisis de los valores nulos en la columna precipitación\n",
    "- Observo que la provincia NL tiene todos valores nulos en precipitación , por lo cual decido eliminar esta provincia del dataset\n",
    "- Para los otros casos, decido reemplazar los valores nulos por el promedio por provincia y año"
   ]
  },
  {
   "cell_type": "code",
   "execution_count": 121,
   "metadata": {},
   "outputs": [
    {
     "name": "stdout",
     "output_type": "stream",
     "text": [
      "Precipitation not null by NL: 0\n"
     ]
    }
   ],
   "source": [
    "# Obtengo la cantidad de datos nulos en 'precipitation(mm) por año y provincia\n",
    "precipitation_null_by_year_province = df.groupby(['province', 'year']).agg({'precipitation(mm)': lambda x: x.isnull().sum()})\n",
    "precipitation_null_by_year_province = precipitation_null_by_year_province[precipitation_null_by_year_province.sum(axis=1) > 0]\n",
    "# print(precipitation_null_by_year_province)\n",
    "\n",
    "# Obtener la cantidad de valores no nulos en 'precipitation(mm)' para la provincia de 'NL'\n",
    "precipitation_not_null_by_province_NL = df[df['province'] == 'NL']['precipitation(mm)'].count()\n",
    "# Mostrar los resultados\n",
    "print(f\"Precipitation not null by NL: {precipitation_not_null_by_province_NL}\")\n",
    "\n",
    "# Crear un nuevo DataFrame sin las filas donde la provincia es 'NL'\n",
    "df2 = df[df['province'] != 'NL'].copy()\n",
    "# df2.describe()\n",
    "\n",
    "# Calcular la media de precipitación por provincia y año y agregarla al DataFrame y se reemplazan los valores nulos por la media\n",
    "precipitation_mean = df2.groupby(['year', 'province'])['precipitation(mm)'].mean().reset_index()\n",
    "df2 = pd.merge(df2, precipitation_mean, on=['year', 'province'], suffixes=('', '_mean'))\n",
    "# Rellenar los valores nulos en 'precipitation(mm)' con la media sin usar inplace\n",
    "df2['precipitation(mm)'] = df2['precipitation(mm)'].fillna(df2['precipitation(mm)_mean'])\n"
   ]
  },
  {
   "cell_type": "markdown",
   "metadata": {},
   "source": [
    "### Análisis de los datos nulos pendientes de resolución"
   ]
  },
  {
   "cell_type": "code",
   "execution_count": 122,
   "metadata": {},
   "outputs": [
    {
     "name": "stdout",
     "output_type": "stream",
     "text": [
      "year                       0\n",
      "province                   0\n",
      "crop                       0\n",
      "precipitation(mm)          0\n",
      "harvested area (acres)    14\n",
      "yield (tonnes/acres)      16\n",
      "production (tonnes)       15\n",
      "farm gate value ($)       17\n",
      "precipitation(mm)_mean     0\n",
      "dtype: int64\n"
     ]
    }
   ],
   "source": [
    "datos_nulos_por_columna = df2.isnull().sum()\n",
    "print(datos_nulos_por_columna)\n",
    "filas_con_nulos = df2[df2.isnull().any(axis=1)]\n",
    "# print(filas_con_nulos[['harvested area (acres)','yield (tonnes/acres)','production (tonnes)']])"
   ]
  },
  {
   "cell_type": "markdown",
   "metadata": {},
   "source": [
    "Se crea una función que permite analizar los datos nulos pendientes de resolución y asignar un valor de predicción en base a la columna que se le pase como parámetro , el cultivo y la provincia"
   ]
  },
  {
   "cell_type": "code",
   "execution_count": 123,
   "metadata": {},
   "outputs": [],
   "source": [
    "from sklearn.ensemble import RandomForestRegressor\n",
    "from pandas import DataFrame\n",
    "\n",
    "# Función para resolver los valores nulos en un campo y asignar la predicción\n",
    "def solve_nulls_in_field_and_assign_prediction(dataset: DataFrame, field: str, crop: str, province: str):\n",
    "    # Obtener las filas que cumplen con las condiciones\n",
    "    data = dataset[(dataset['crop'].str.strip() == crop) & (dataset['province'].str.strip() == province) & (dataset[field].notna())]\n",
    "    # Calcular la media de toneladas por acre agrupado por año\n",
    "    tonnes_by_year = data.groupby(['year'])[field].mean().reset_index()\n",
    "    years = tonnes_by_year['year'].values.reshape(-1, 1)\n",
    "    tonnes_by_acres =  tonnes_by_year[field].values.reshape(-1, 1)\n",
    "    # Crear el modelo de regresión para predecir las toneladas por acre por año\n",
    "    regression = RandomForestRegressor(n_estimators=50, random_state=0)\n",
    "    regression.fit(years, tonnes_by_acres.ravel())  # Utilizar ravel() para convertir a array unidimensional\n",
    "    # Se busca los años donde el valor de 'yield (tonnes/acres)' es nulo o cero\n",
    "    nulls = dataset[(dataset['crop'].str.strip() == crop) & \n",
    "                    (dataset['province'].str.strip() == province) & \n",
    "                    (dataset[field].isnull() | (dataset[field] == 0))]    \n",
    "    nulls = nulls[['year', field]]\n",
    "    # Se realiza la predicción para los años para los valores nulos \n",
    "    for index, row in nulls.iterrows():\n",
    "        # Obtener el valor de 'year' en la fila actual\n",
    "        year = row['year'].astype(int)        \n",
    "        # Realizar la predicción para el año actual\n",
    "        prediction = regression.predict([[year]])[0].round(2)        \n",
    "        # Mostrar el resultado\n",
    "        print(f'Año: {year}, Predicción {field}: {prediction}')\n",
    "        # Establecer un nuevo valor en la columna 'production' para las filas que cumplen con las condiciones\n",
    "        dataset.loc[(dataset['year'].astype(int) == year) & \n",
    "                    (dataset['province'].str.strip() == province) & \n",
    "                    (dataset['crop'].str.strip() == crop) & \n",
    "                    (dataset[field].isnull() | (dataset[field] == 0)), field] = prediction\n",
    "    # Gráfico con las toneladas por acre por año y la predicción\n",
    "    # plt.scatter(tonnes_by_year['year'], tonnes_by_year[field], color = \"red\")\n",
    "    # plt.plot(years, regression.predict(years), color = \"blue\")\n",
    "    # plt.title(f\"{field} por {province} y {crop}\")\n",
    "    # plt.xlabel(\"Año\")\n",
    "    # plt.ylabel(field)\n",
    "    # plt.show()\n",
    "    "
   ]
  },
  {
   "cell_type": "markdown",
   "metadata": {},
   "source": [
    "### Resolución de valores nulos en la columna \"harvested area (acres)\"\n",
    "\n",
    "- Se resuelve los valores nulos asignando la predicción de acuerdo al ano por cultivo y provincia"
   ]
  },
  {
   "cell_type": "code",
   "execution_count": 124,
   "metadata": {},
   "outputs": [
    {
     "name": "stdout",
     "output_type": "stream",
     "text": [
      "Año: 1997, Predicción harvested area (acres): 902.2\n",
      "Año: 2022, Predicción harvested area (acres): 354.76\n",
      "Año: 2022, Predicción harvested area (acres): 292.08\n",
      "Año: 2022, Predicción harvested area (acres): 414.74\n",
      "Año: 2022, Predicción harvested area (acres): 19325.4\n",
      "Año: 1999, Predicción harvested area (acres): 64.74\n",
      "Año: 2001, Predicción harvested area (acres): 54.7\n",
      "Año: 2004, Predicción harvested area (acres): 70.6\n",
      "Año: 2015, Predicción harvested area (acres): 54.68\n",
      "Año: 2016, Predicción harvested area (acres): 54.8\n",
      "Año: 2022, Predicción harvested area (acres): 53.6\n",
      "Año: 2022, Predicción harvested area (acres): 15789.84\n",
      "Año: 2017, Predicción harvested area (acres): 148.0\n",
      "Año: 2022, Predicción harvested area (acres): 73.84\n"
     ]
    }
   ],
   "source": [
    "# Se busca los valores nulos por provincia y cultivo y se asigna el valor de la predicción\n",
    "# solve_nulls_in_field_and_assign_prediction(df2,'harvested area (acres)', 'potato', 'AB')\n",
    "solve_nulls_in_field_and_assign_prediction(df2,'harvested area (acres)', 'corn', 'BC')\n",
    "solve_nulls_in_field_and_assign_prediction(df2,'harvested area (acres)', 'potato', 'BC')\n",
    "solve_nulls_in_field_and_assign_prediction(df2,'harvested area (acres)', 'corn', 'MB')\n",
    "solve_nulls_in_field_and_assign_prediction(df2,'harvested area (acres)', 'corn', 'NB')\n",
    "solve_nulls_in_field_and_assign_prediction(df2,'harvested area (acres)', 'corn', 'NS')\n",
    "solve_nulls_in_field_and_assign_prediction(df2,'harvested area (acres)', 'potato', 'NS')\n",
    "solve_nulls_in_field_and_assign_prediction(df2,'harvested area (acres)', 'corn', 'ON')\n",
    "solve_nulls_in_field_and_assign_prediction(df2,'harvested area (acres)', 'corn', 'PE')\n",
    "solve_nulls_in_field_and_assign_prediction(df2,'harvested area (acres)', 'corn', 'QC')\n",
    "solve_nulls_in_field_and_assign_prediction(df2,'harvested area (acres)', 'potato', 'QC')\n",
    "solve_nulls_in_field_and_assign_prediction(df2,'harvested area (acres)', 'corn', 'SK')\n",
    "solve_nulls_in_field_and_assign_prediction(df2,'harvested area (acres)', 'potato', 'SK')\n",
    "solve_nulls_in_field_and_assign_prediction(df2,'harvested area (acres)', 'oat', 'SK')"
   ]
  },
  {
   "cell_type": "markdown",
   "metadata": {},
   "source": [
    "### Resolución de valores nulos en la columna \"yield (tonnes/acres)\"\n",
    "\n",
    "- Para los casos nulos donde se conoce el valor de la producción y el área cosechada, se calcula el rendimiento en base a estos valores\n",
    "- Para los casos nulos restantes se calcula la predicción de acuerdo al ano por cultivo y provincia"
   ]
  },
  {
   "cell_type": "code",
   "execution_count": 125,
   "metadata": {},
   "outputs": [
    {
     "name": "stdout",
     "output_type": "stream",
     "text": [
      "Año: 2022, Predicción yield (tonnes/acres): 3.09\n",
      "Año: 1997, Predicción yield (tonnes/acres): 4.23\n",
      "Año: 2022, Predicción yield (tonnes/acres): 2.74\n",
      "Año: 2022, Predicción yield (tonnes/acres): 2.3\n",
      "Año: 2022, Predicción yield (tonnes/acres): 2.26\n",
      "Año: 2022, Predicción yield (tonnes/acres): 6.23\n",
      "Año: 1999, Predicción yield (tonnes/acres): 2.87\n",
      "Año: 2001, Predicción yield (tonnes/acres): 2.79\n",
      "Año: 2004, Predicción yield (tonnes/acres): 3.4\n",
      "Año: 2022, Predicción yield (tonnes/acres): 3.67\n",
      "Año: 2022, Predicción yield (tonnes/acres): 4.52\n",
      "Año: 1995, Predicción yield (tonnes/acres): 1.1\n",
      "Año: 2010, Predicción yield (tonnes/acres): 0.52\n",
      "Año: 2018, Predicción yield (tonnes/acres): 0.65\n",
      "Año: 2022, Predicción yield (tonnes/acres): 2.9\n"
     ]
    }
   ],
   "source": [
    "# Para los casos nulos donde se conoce el valor de la producción y el área cosechada, se calcula el rendimiento en base a estos valores\n",
    "\n",
    "df2['yield per acre'] = df2['production (tonnes)'] / df2['harvested area (acres)']\n",
    "df2['yield per acre']  = df2['yield per acre'].round(2)\n",
    "# Verifico que el cálculo sea correcto\n",
    "# print(df2[['production (tonnes)', 'harvested area (acres)','yield (tonnes/acres)', 'yield per acre']].head())\n",
    "\n",
    "# Asignar el valor de 'yield per acre' a 'yield (tonnes/acres)' si 'yield per acre' > 0\n",
    "df2.loc[(df2['yield per acre'].notnull()) & (df2['yield per acre'] > 0), 'yield (tonnes/acres)'] = df2['yield per acre']\n",
    "\n",
    "# Eliminar la columna 'yield per acre'\n",
    "df2.drop('yield per acre', axis=1, inplace=True)\n",
    "\n",
    "# Se busca los valores nulos por provincia y cultivo y se asigna el valor de la predicción\n",
    "solve_nulls_in_field_and_assign_prediction(df2,'yield (tonnes/acres)', 'potato', 'AB')\n",
    "solve_nulls_in_field_and_assign_prediction(df2,'yield (tonnes/acres)', 'corn', 'BC')\n",
    "solve_nulls_in_field_and_assign_prediction(df2,'yield (tonnes/acres)', 'potato', 'BC')\n",
    "solve_nulls_in_field_and_assign_prediction(df2,'yield (tonnes/acres)', 'corn', 'MB')\n",
    "solve_nulls_in_field_and_assign_prediction(df2,'yield (tonnes/acres)', 'corn', 'NB')\n",
    "solve_nulls_in_field_and_assign_prediction(df2,'yield (tonnes/acres)', 'corn', 'NS')\n",
    "solve_nulls_in_field_and_assign_prediction(df2,'yield (tonnes/acres)', 'potato', 'NS')\n",
    "solve_nulls_in_field_and_assign_prediction(df2,'yield (tonnes/acres)', 'corn', 'ON')\n",
    "solve_nulls_in_field_and_assign_prediction(df2,'yield (tonnes/acres)', 'corn', 'PE')\n",
    "solve_nulls_in_field_and_assign_prediction(df2,'yield (tonnes/acres)', 'corn', 'QC')\n",
    "solve_nulls_in_field_and_assign_prediction(df2,'yield (tonnes/acres)', 'potato', 'QC')\n",
    "solve_nulls_in_field_and_assign_prediction(df2,'yield (tonnes/acres)', 'corn', 'SK')\n",
    "solve_nulls_in_field_and_assign_prediction(df2,'yield (tonnes/acres)', 'potato', 'SK')\n",
    "solve_nulls_in_field_and_assign_prediction(df2,'yield (tonnes/acres)', 'oat', 'SK')\n"
   ]
  },
  {
   "cell_type": "markdown",
   "metadata": {},
   "source": [
    "### Resolución de valores nulos en la columna \"production (tonnes)\"\n",
    "\n",
    "Se calcula el valor de la producción en base al área cosechada y el rendimiento"
   ]
  },
  {
   "cell_type": "code",
   "execution_count": 126,
   "metadata": {},
   "outputs": [],
   "source": [
    "\n",
    "df2['production_temp'] = (df2['harvested area (acres)'] * df2['yield (tonnes/acres)']).round(2)\n",
    "# Verifico que el cálculo sea correcto\n",
    "# print(df2[['production (tonnes)', 'production_temp']].head())\n",
    "\n",
    "# Asignar el valor de 'production_temp' a 'production (tonnes)' cuando 'production (tonnes)' es nulo o cero\n",
    "df2.loc[(df2['production (tonnes)'].isnull()) | (df2['production (tonnes)'] == 0), 'production (tonnes)'] = df2['production_temp']\n",
    "\n",
    "# Eliminar la columna 'production_temp'\n",
    "df2.drop('production_temp', axis=1, inplace=True)"
   ]
  },
  {
   "cell_type": "markdown",
   "metadata": {},
   "source": [
    "### Resolución de valores nulos en la columna \"farm gate value ($)\""
   ]
  },
  {
   "cell_type": "code",
   "execution_count": 127,
   "metadata": {},
   "outputs": [
    {
     "name": "stdout",
     "output_type": "stream",
     "text": [
      "Provincia AB Año: 2017 y producción 20572.0  Predicción value by ton 9494.01 \"farm gate value ($)\": 195310773\n",
      "Provincia AB Año: 2018 y producción 21762.0  Predicción value by ton 9014.02 \"farm gate value ($)\": 196163103\n",
      "Provincia AB Año: 2019 y producción 21718.0  Predicción value by ton 8760.01 \"farm gate value ($)\": 190249897\n",
      "Provincia BC Año: 2022 y producción 8652.0  Predicción value by ton 275.89 \"farm gate value ($)\": 2387000\n",
      "Provincia BC Año: 2021 y producción 2080.0  Predicción value by ton 19366.0 \"farm gate value ($)\": 40281280\n",
      "Provincia MB Año: 1997 y producción 3816.31  Predicción value by ton 156.07 \"farm gate value ($)\": 595611\n",
      "Provincia MB Año: 2022 y producción 972.04  Predicción value by ton 123.05 \"farm gate value ($)\": 119609\n",
      "Provincia NS Año: 2013 y producción 450.0  Predicción value by ton 11827.5 \"farm gate value ($)\": 5322375\n",
      "Provincia NS Año: 2014 y producción 487.0  Predicción value by ton 11745.16 \"farm gate value ($)\": 5719892\n",
      "Provincia NS Año: 2015 y producción 330.0  Predicción value by ton 10329.78 \"farm gate value ($)\": 3408827\n",
      "Provincia NS Año: 2016 y producción 432.0  Predicción value by ton 10289.9 \"farm gate value ($)\": 4445236\n",
      "Provincia ON Año: 2022 y producción 120397.24  Predicción value by ton 275.89 \"farm gate value ($)\": 33216394\n",
      "Provincia PE Año: 1999 y producción 185.8  Predicción value by ton 161.37 \"farm gate value ($)\": 29982\n",
      "Provincia PE Año: 2001 y producción 152.61  Predicción value by ton 167.03 \"farm gate value ($)\": 25490\n",
      "Provincia PE Año: 2004 y producción 240.04  Predicción value by ton 54.88 \"farm gate value ($)\": 13173\n",
      "Provincia PE Año: 2022 y producción 196.71  Predicción value by ton 93.65 \"farm gate value ($)\": 18421\n",
      "Provincia QC Año: 2020 y producción 12731.0  Predicción value by ton 11048.42 \"farm gate value ($)\": 140657435\n",
      "Provincia QC Año: 2021 y producción 14100.0  Predicción value by ton 13112.56 \"farm gate value ($)\": 184887096\n",
      "Provincia SK Año: 2020 y producción 1400.0  Predicción value by ton 17680.0 \"farm gate value ($)\": 24752000\n",
      "Provincia SK Año: 2022 y producción 2567136.0  Predicción value by ton 42.06 \"farm gate value ($)\": 107973740\n"
     ]
    }
   ],
   "source": [
    "\n",
    "# Función para resolver los valores nulos en un campo y asignar la predicción\n",
    "def solve_nulls_in_farm_gate_value(dataset: DataFrame, crop: str, province: str):\n",
    "    # Obtener las filas que cumplen con las condiciones\n",
    "    data = dataset[(dataset['crop'].str.strip() == crop) & (dataset['province'].str.strip() == province) & (dataset['farm gate value ($)'].notna())].copy()\n",
    "    data['value_per_ton'] = (data['farm gate value ($)'] / data['production (tonnes)']).round(2)   \n",
    "    value_by_ton_by_year = data.groupby(['year'])['value_per_ton'].mean().reset_index()\n",
    "    years = value_by_ton_by_year['year'].values.reshape(-1, 1)\n",
    "    values =  value_by_ton_by_year['value_per_ton'].values.reshape(-1, 1)\n",
    "    # Crear el modelo de regresión para predecir las toneladas por acre por año\n",
    "    regression = RandomForestRegressor(n_estimators=50, random_state=0)\n",
    "    regression.fit(years, values.ravel())  # Utilizar ravel() para convertir a array unidimensional\n",
    "    # # Se busca los años donde el valor de 'yield (tonnes/acres)' es nulo o cero\n",
    "    nulls = dataset[(dataset['crop'].str.strip() == crop) & \n",
    "                    (dataset['province'].str.strip() == province) & \n",
    "                    (dataset['farm gate value ($)'].isnull() | (dataset['farm gate value ($)'] == 0))]    \n",
    "    nulls = nulls[['year', 'production (tonnes)', 'farm gate value ($)']]\n",
    "    # Se realiza la predicción para los años para los valores nulos \n",
    "    for index, row in nulls.iterrows():\n",
    "        # Obtener el valor de 'year' en la fila actual\n",
    "        year = row['year'].astype(int)        \n",
    "        # Realizar la predicción para el año actual\n",
    "        prediction = regression.predict([[year]])[0].round(2)\n",
    "        production = row['production (tonnes)']\n",
    "        result = (prediction * production).astype(int)       \n",
    "        # Mostrar el resultado\n",
    "        print(f'Provincia {province} Año: {year} y producción {production}  Predicción value by ton {prediction} \"farm gate value ($)\": {result}')\n",
    "\n",
    "        # Establecer un nuevo valor en la columna 'production' para las filas que cumplen con las condiciones\n",
    "        dataset.loc[(dataset['year'].astype(int) == year) & \n",
    "                    (dataset['province'].str.strip() == province) & \n",
    "                    (dataset['crop'].str.strip() == crop) & \n",
    "                    (dataset['farm gate value ($)'].isnull() | (dataset['farm gate value ($)'] == 0)), 'farm gate value ($)'] = result\n",
    "    \n",
    "    # Gráfico con las toneladas por acre por año y la predicción\n",
    "    # plt.scatter(value_by_ton_by_year['year'], value_by_ton_by_year['value_per_ton'], color = \"red\")\n",
    "    # plt.plot(years, regression.predict(years), color = \"blue\")\n",
    "    # plt.title(f\"value per ton por {province} y {crop}\")\n",
    "    # plt.xlabel(\"Año\")\n",
    "    # plt.ylabel('value per ton')\n",
    "    # plt.show()\n",
    "\n",
    "solve_nulls_in_farm_gate_value(df2, 'potato', 'AB')\n",
    "solve_nulls_in_farm_gate_value(df2, 'corn', 'BC')\n",
    "solve_nulls_in_farm_gate_value(df2, 'potato', 'BC')\n",
    "solve_nulls_in_farm_gate_value(df2, 'corn', 'MB')\n",
    "solve_nulls_in_farm_gate_value(df2, 'potato', 'NS')\n",
    "solve_nulls_in_farm_gate_value(df2, 'corn', 'ON')\n",
    "solve_nulls_in_farm_gate_value(df2, 'corn', 'PE')\n",
    "solve_nulls_in_farm_gate_value(df2, 'potato', 'QC')\n",
    "solve_nulls_in_farm_gate_value(df2, 'potato', 'SK')\n",
    "solve_nulls_in_farm_gate_value(df2, 'oat', 'SK')\n"
   ]
  },
  {
   "cell_type": "markdown",
   "metadata": {},
   "source": [
    "### Se verifica que no hayan valores nulos en el dataset"
   ]
  },
  {
   "cell_type": "code",
   "execution_count": 128,
   "metadata": {},
   "outputs": [
    {
     "name": "stdout",
     "output_type": "stream",
     "text": [
      "year                      0\n",
      "province                  0\n",
      "crop                      0\n",
      "precipitation(mm)         0\n",
      "harvested area (acres)    0\n",
      "yield (tonnes/acres)      0\n",
      "production (tonnes)       0\n",
      "farm gate value ($)       0\n",
      "precipitation(mm)_mean    0\n",
      "dtype: int64\n"
     ]
    }
   ],
   "source": [
    "datos_nulos_por_columna = df2.isnull().sum()\n",
    "print(datos_nulos_por_columna)\n",
    "filas_con_nulos = df2[df2.isnull().any(axis=1)]"
   ]
  },
  {
   "cell_type": "markdown",
   "metadata": {},
   "source": [
    "## Exploración y visualización de datos\n",
    "\n",
    "TODO"
   ]
  },
  {
   "cell_type": "markdown",
   "metadata": {},
   "source": [
    "## Modelado y predicción\n",
    "\n",
    "TODO\n"
   ]
  },
  {
   "cell_type": "markdown",
   "metadata": {},
   "source": [
    "## Generación de Conclusiones\n",
    "\n",
    "TODO"
   ]
  }
 ],
 "metadata": {
  "kernelspec": {
   "display_name": "Python 3",
   "language": "python",
   "name": "python3"
  },
  "language_info": {
   "codemirror_mode": {
    "name": "ipython",
    "version": 3
   },
   "file_extension": ".py",
   "mimetype": "text/x-python",
   "name": "python",
   "nbconvert_exporter": "python",
   "pygments_lexer": "ipython3",
   "version": "3.10.12"
  }
 },
 "nbformat": 4,
 "nbformat_minor": 2
}
